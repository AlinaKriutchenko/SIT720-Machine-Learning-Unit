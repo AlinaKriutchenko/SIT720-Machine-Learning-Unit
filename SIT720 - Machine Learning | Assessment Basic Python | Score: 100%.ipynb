{
 "cells": [
  {
   "cell_type": "markdown",
   "metadata": {
    "colab_type": "text",
    "id": "1cBt-DED-MC9"
   },
   "source": [
    "#**SIT 720 - Machine Learning**\n",
    "\n",
    "Lecturer: Chandan Karmakar | karmakar@deakin.edu.au\n",
    "\n",
    "School of Information Technology,\n",
    "<br/>Deakin University, VIC 3125, Australia."
   ]
  },
  {
   "cell_type": "markdown",
   "metadata": {
    "colab_type": "text",
    "id": "qSfW2iPaFFq5"
   },
   "source": [
    "#**Assessment Task 1 (20 marks)**\n",
    "\n",
    "##**Submission Instruction**\n",
    "1.  Student should insert Python code or text responses into the cell followed by the question.\n",
    "\n",
    "2.  For answers regarding discussion or explanation, **maximum five sentences are suggested**.\n",
    "\n",
    "3.  Rename this notebook file appending your student ID. For example, for student ID 1234, the submitted file name should be A0_1234.ipynb.\n",
    "\n",
    "4.  Insert your student ID and name in the following cell."
   ]
  },
  {
   "cell_type": "code",
   "execution_count": 71,
   "metadata": {
    "colab": {},
    "colab_type": "code",
    "id": "45gFUaXcF8oG"
   },
   "outputs": [],
   "source": [
    "# Student ID: 220129254\n",
    "\n",
    "# Student name: Alina Kriutchenko\n"
   ]
  },
  {
   "cell_type": "markdown",
   "metadata": {
    "colab_type": "text",
    "id": "JtEbRsB1_P_j"
   },
   "source": [
    "\n",
    "\n",
    "##**Background**\n",
    "Selection of housing is always difficult for someone seeking for a suitable one as it includes various factors and preferences. People prefer to buy a house considering many criteria like- population, quality of life, financial capability, as well as social and natural environments around the housing block. In this assignment you will be helping people choosing suitable housing for them according to their needs.\n",
    "##**Dataset**\n",
    "**Dataset file name:** housing_dataset.csv\n",
    "\n",
    "**Dataset description:** Dataset contains total 10 features (columns). It contains the location, housing age, population, number of families in a housing (block), number of rooms, average income of the families in that housing, ocean proximity and other informaiton. Each row indicates a record of a housing block containing the features mentioned earlier.\n",
    "\n",
    "**Features:** \n",
    "\n",
    "1.   latitude (float): Latitude of the location of a housing in conventional geospace\n",
    "2.   longitude (float): Longitude of the location of a housing in conventional geospace\n",
    "3.   housing_age (int): Age of the housing in year, the higher number indicates the older housing\n",
    "4.    total_rooms (int): Total number of rooms in a housing\n",
    "5.    total_bedrooms (int): Total number of bedrooms in a housing\n",
    "6.    population (int): Total population of a housing\n",
    "7.    families (int): Total number of families living in a housing\n",
    "8.    average_income (float): Average income of the member of a housing in a scale of Tousand Dollar Per Month\n",
    "9.    ocean_proximity (string): Describing how close the housing is to the ocean\n",
    "10.   house_value (int): Average individual house price of a housing in Dollers\n"
   ]
  },
  {
   "cell_type": "markdown",
   "metadata": {
    "colab_type": "text",
    "id": "rQs2cqHo_7wC"
   },
   "source": [
    "\n",
    "\n",
    "##**Part-1: Basic Calculations:**  *(8 marks: 8 questions x 1 marks each)*\n",
    "\n",
    "\n",
    "1.   Find the distances of the farthest and nearest housing blocks from the house block described in the first row of the dataset."
   ]
  },
  {
   "cell_type": "code",
   "execution_count": 72,
   "metadata": {
    "colab": {},
    "colab_type": "code",
    "id": "O0r1-UqH__3s"
   },
   "outputs": [
    {
     "data": {
      "text/html": [
       "<div>\n",
       "<style scoped>\n",
       "    .dataframe tbody tr th:only-of-type {\n",
       "        vertical-align: middle;\n",
       "    }\n",
       "\n",
       "    .dataframe tbody tr th {\n",
       "        vertical-align: top;\n",
       "    }\n",
       "\n",
       "    .dataframe thead th {\n",
       "        text-align: right;\n",
       "    }\n",
       "</style>\n",
       "<table border=\"1\" class=\"dataframe\">\n",
       "  <thead>\n",
       "    <tr style=\"text-align: right;\">\n",
       "      <th></th>\n",
       "      <th>longitude</th>\n",
       "      <th>latitude</th>\n",
       "      <th>housing_age</th>\n",
       "      <th>total_rooms</th>\n",
       "      <th>total_bedrooms</th>\n",
       "      <th>population</th>\n",
       "      <th>families</th>\n",
       "      <th>average_income</th>\n",
       "      <th>ocean_proximity</th>\n",
       "      <th>house_value</th>\n",
       "    </tr>\n",
       "  </thead>\n",
       "  <tbody>\n",
       "    <tr>\n",
       "      <th>0</th>\n",
       "      <td>-122.23</td>\n",
       "      <td>37.88</td>\n",
       "      <td>41</td>\n",
       "      <td>880</td>\n",
       "      <td>129.0</td>\n",
       "      <td>322</td>\n",
       "      <td>126</td>\n",
       "      <td>8.3252</td>\n",
       "      <td>NEAR BAY</td>\n",
       "      <td>452600</td>\n",
       "    </tr>\n",
       "    <tr>\n",
       "      <th>1</th>\n",
       "      <td>-122.22</td>\n",
       "      <td>37.86</td>\n",
       "      <td>21</td>\n",
       "      <td>7099</td>\n",
       "      <td>1106.0</td>\n",
       "      <td>2401</td>\n",
       "      <td>1138</td>\n",
       "      <td>8.3014</td>\n",
       "      <td>NEAR BAY</td>\n",
       "      <td>358500</td>\n",
       "    </tr>\n",
       "    <tr>\n",
       "      <th>2</th>\n",
       "      <td>-122.24</td>\n",
       "      <td>37.85</td>\n",
       "      <td>52</td>\n",
       "      <td>1467</td>\n",
       "      <td>190.0</td>\n",
       "      <td>496</td>\n",
       "      <td>177</td>\n",
       "      <td>7.2574</td>\n",
       "      <td>NEAR BAY</td>\n",
       "      <td>352100</td>\n",
       "    </tr>\n",
       "    <tr>\n",
       "      <th>3</th>\n",
       "      <td>-122.25</td>\n",
       "      <td>37.85</td>\n",
       "      <td>52</td>\n",
       "      <td>1274</td>\n",
       "      <td>235.0</td>\n",
       "      <td>558</td>\n",
       "      <td>219</td>\n",
       "      <td>5.6431</td>\n",
       "      <td>NEAR BAY</td>\n",
       "      <td>341300</td>\n",
       "    </tr>\n",
       "    <tr>\n",
       "      <th>4</th>\n",
       "      <td>-122.25</td>\n",
       "      <td>37.85</td>\n",
       "      <td>52</td>\n",
       "      <td>1627</td>\n",
       "      <td>280.0</td>\n",
       "      <td>565</td>\n",
       "      <td>259</td>\n",
       "      <td>3.8462</td>\n",
       "      <td>NEAR BAY</td>\n",
       "      <td>342200</td>\n",
       "    </tr>\n",
       "    <tr>\n",
       "      <th>5</th>\n",
       "      <td>-122.25</td>\n",
       "      <td>37.85</td>\n",
       "      <td>52</td>\n",
       "      <td>919</td>\n",
       "      <td>213.0</td>\n",
       "      <td>413</td>\n",
       "      <td>193</td>\n",
       "      <td>4.0368</td>\n",
       "      <td>NEAR BAY</td>\n",
       "      <td>269700</td>\n",
       "    </tr>\n",
       "    <tr>\n",
       "      <th>6</th>\n",
       "      <td>-122.25</td>\n",
       "      <td>37.84</td>\n",
       "      <td>52</td>\n",
       "      <td>2535</td>\n",
       "      <td>489.0</td>\n",
       "      <td>1094</td>\n",
       "      <td>514</td>\n",
       "      <td>3.6591</td>\n",
       "      <td>NEAR BAY</td>\n",
       "      <td>299200</td>\n",
       "    </tr>\n",
       "    <tr>\n",
       "      <th>7</th>\n",
       "      <td>-122.25</td>\n",
       "      <td>37.84</td>\n",
       "      <td>52</td>\n",
       "      <td>3104</td>\n",
       "      <td>687.0</td>\n",
       "      <td>1157</td>\n",
       "      <td>647</td>\n",
       "      <td>3.1200</td>\n",
       "      <td>NEAR BAY</td>\n",
       "      <td>241400</td>\n",
       "    </tr>\n",
       "    <tr>\n",
       "      <th>8</th>\n",
       "      <td>-122.26</td>\n",
       "      <td>37.84</td>\n",
       "      <td>42</td>\n",
       "      <td>2555</td>\n",
       "      <td>665.0</td>\n",
       "      <td>1206</td>\n",
       "      <td>595</td>\n",
       "      <td>2.0804</td>\n",
       "      <td>NEAR BAY</td>\n",
       "      <td>226700</td>\n",
       "    </tr>\n",
       "    <tr>\n",
       "      <th>9</th>\n",
       "      <td>-122.25</td>\n",
       "      <td>37.84</td>\n",
       "      <td>52</td>\n",
       "      <td>3549</td>\n",
       "      <td>707.0</td>\n",
       "      <td>1551</td>\n",
       "      <td>714</td>\n",
       "      <td>3.6912</td>\n",
       "      <td>NEAR BAY</td>\n",
       "      <td>261100</td>\n",
       "    </tr>\n",
       "  </tbody>\n",
       "</table>\n",
       "</div>"
      ],
      "text/plain": [
       "   longitude  latitude  housing_age  total_rooms  total_bedrooms  population  \\\n",
       "0    -122.23     37.88           41          880           129.0         322   \n",
       "1    -122.22     37.86           21         7099          1106.0        2401   \n",
       "2    -122.24     37.85           52         1467           190.0         496   \n",
       "3    -122.25     37.85           52         1274           235.0         558   \n",
       "4    -122.25     37.85           52         1627           280.0         565   \n",
       "5    -122.25     37.85           52          919           213.0         413   \n",
       "6    -122.25     37.84           52         2535           489.0        1094   \n",
       "7    -122.25     37.84           52         3104           687.0        1157   \n",
       "8    -122.26     37.84           42         2555           665.0        1206   \n",
       "9    -122.25     37.84           52         3549           707.0        1551   \n",
       "\n",
       "   families  average_income ocean_proximity  house_value  \n",
       "0       126          8.3252        NEAR BAY       452600  \n",
       "1      1138          8.3014        NEAR BAY       358500  \n",
       "2       177          7.2574        NEAR BAY       352100  \n",
       "3       219          5.6431        NEAR BAY       341300  \n",
       "4       259          3.8462        NEAR BAY       342200  \n",
       "5       193          4.0368        NEAR BAY       269700  \n",
       "6       514          3.6591        NEAR BAY       299200  \n",
       "7       647          3.1200        NEAR BAY       241400  \n",
       "8       595          2.0804        NEAR BAY       226700  \n",
       "9       714          3.6912        NEAR BAY       261100  "
      ]
     },
     "execution_count": 72,
     "metadata": {},
     "output_type": "execute_result"
    }
   ],
   "source": [
    "import pandas as pd\n",
    "import numpy as np\n",
    "from matplotlib import pyplot as plt\n",
    "import math\n",
    "\n",
    "housing_dataset = pd.read_csv(r\"C:\\Users\\alina\\OneDrive\\Documents\\Units\\Trimester 2\\SIT720\\New folder\\housing_dataset.csv\")\n",
    "housing_dataset.head(10)"
   ]
  },
  {
   "cell_type": "code",
   "execution_count": 73,
   "metadata": {},
   "outputs": [
    {
     "name": "stdout",
     "output_type": "stream",
     "text": [
      "The distance to the nearest housing block : 0.8779353633719376\n"
     ]
    }
   ],
   "source": [
    "#Earth R\n",
    "R= 6373.0\n",
    "\n",
    "#Compare house 1 and house 1635\n",
    "lat1 = math.radians(37.88)\n",
    "lon1 = math.radians(-122.23)\n",
    "lat2 = math.radians(37.88)\n",
    "lon2 = math.radians(-122.22)\n",
    "\n",
    "dislon = lon2 - lon1\n",
    "dislat = lat2 - lat1\n",
    "\n",
    "a = math.sin(dislat / 2)**2 + math.cos(lat1) * math.cos(lat2) * math.sin(dislon / 2)**2\n",
    "c = 2 * math.atan2(math.sqrt(a), math.sqrt(1 - a))\n",
    "distance = R * c\n",
    "print('The distance to the nearest housing block :',  distance)"
   ]
  },
  {
   "cell_type": "code",
   "execution_count": 74,
   "metadata": {},
   "outputs": [
    {
     "name": "stdout",
     "output_type": "stream",
     "text": [
      "The distance to the farthest housing block : 821.7113545562466\n"
     ]
    }
   ],
   "source": [
    "#Earth R\n",
    "R= 6373.0\n",
    "\n",
    "#Compare house 1 and house 13926\n",
    "lat1 = math.radians(37.88)\n",
    "lon1 = math.radians(-122.23)\n",
    "lat2 = math.radians(34.19)\n",
    "lon2 = math.radians(-114.31)\n",
    "\n",
    "dlon = lon2 - lon1\n",
    "dlat = lat2 - lat1\n",
    "\n",
    "aa = math.sin(dlat / 2)**2 + math.cos(lat1) * math.cos(lat2) * math.sin(dlon / 2)**2\n",
    "cc = 2 * math.atan2(math.sqrt(aa), math.sqrt(1 - aa))\n",
    "distance = R * cc\n",
    "print('The distance to the farthest housing block :',  distance)"
   ]
  },
  {
   "cell_type": "markdown",
   "metadata": {
    "colab_type": "text",
    "id": "CGNHL-MAACPJ"
   },
   "source": [
    "2.   Calculate the average age of the house blocks near the ocean."
   ]
  },
  {
   "cell_type": "code",
   "execution_count": 75,
   "metadata": {
    "colab": {},
    "colab_type": "code",
    "id": "-PmJE7wPAHeQ"
   },
   "outputs": [
    {
     "name": "stdout",
     "output_type": "stream",
     "text": [
      "29.347253574115875\n"
     ]
    }
   ],
   "source": [
    "#houses near the ocean:\n",
    "houses_near_ocean = housing_dataset.loc[housing_dataset['ocean_proximity'] == 'NEAR OCEAN']\n",
    "\n",
    "#the average age of houses near the ocean:\n",
    "average_age = houses_near_ocean[\"housing_age\"].mean()\n",
    "print(average_age)\n"
   ]
  },
  {
   "cell_type": "markdown",
   "metadata": {
    "colab_type": "text",
    "id": "7xx5_8BlASae"
   },
   "source": [
    "3.   Find the income of the housing block with the most and least population density (per family)."
   ]
  },
  {
   "cell_type": "code",
   "execution_count": 76,
   "metadata": {
    "colab": {},
    "colab_type": "code",
    "id": "mC3E-Fq6AYTm"
   },
   "outputs": [
    {
     "name": "stdout",
     "output_type": "stream",
     "text": [
      "The average income for the least population density is:  1.875 thousand dollars per month\n",
      "The average income for the most population density is:  2.875 thousand dollars per month\n"
     ]
    }
   ],
   "source": [
    "#Create a column with population density per family:\n",
    "housing_dataset['pop_density'] = housing_dataset['families']/housing_dataset['total_rooms']\n",
    "housing_dataset\n",
    "#print(housing_dataset)\n",
    "\n",
    "#Choose the row with the least population density:\n",
    "least_pop_density = housing_dataset.loc[housing_dataset['pop_density'].idxmin()]\n",
    "#min_pop_den = least_pop_density['pop_density']\n",
    "#least_pop_density is 0.00704676\n",
    "\n",
    "#Choose the row with the most population density:\n",
    "most_pop_density = housing_dataset.loc[housing_dataset['pop_density'].idxmax()]\n",
    "#most_pop_den = most_pop_density['pop_density']\n",
    "#Most_pop_density is 1.18182\n",
    "\n",
    "\n",
    "#The average income with the least population density:\n",
    "avr_inc_least_density = least_pop_density['average_income']\n",
    "\n",
    "#The average income with the most population density:\n",
    "avr_inc_most_density = most_pop_density['average_income']\n",
    "\n",
    "print('The average income for the least population density is: ', avr_inc_least_density, 'thousand dollars per month')\n",
    "#1.875\n",
    "print('The average income for the most population density is: ', avr_inc_most_density, 'thousand dollars per month')\n",
    "#2.875\n",
    "\n"
   ]
  },
  {
   "cell_type": "markdown",
   "metadata": {
    "colab_type": "text",
    "id": "fvMmRTzpAd5J"
   },
   "source": [
    "4.   Calculate the price difference between the latest and oldest housing block from the dataset."
   ]
  },
  {
   "cell_type": "code",
   "execution_count": 77,
   "metadata": {
    "colab": {},
    "colab_type": "code",
    "id": "4rKQUPpyAfWQ"
   },
   "outputs": [
    {
     "name": "stdout",
     "output_type": "stream",
     "text": [
      "The price difference between the latest and oldest housing block is:  131120.87117046345\n"
     ]
    }
   ],
   "source": [
    "#Choose houses with miinimum age\n",
    "a = housing_dataset[housing_dataset.housing_age == housing_dataset.housing_age.min()]\n",
    "#The average price of house with a minimum age:\n",
    "avr_price_lat_house = a.loc[:,\"house_value\"].mean()\n",
    "\n",
    "\n",
    "#Choose houses with maximum age\n",
    "b = housing_dataset[housing_dataset.housing_age == housing_dataset.housing_age.max()]\n",
    "#The average price of house with a maximum age:\n",
    "avr_price_old_house = b.loc[:,\"house_value\"].mean()\n",
    "\n",
    "\n",
    "price_difference = abs(avr_price_lat_house - avr_price_old_house)\n",
    "print('The price difference between the latest and oldest housing block is: ', price_difference)"
   ]
  },
  {
   "cell_type": "markdown",
   "metadata": {
    "colab_type": "text",
    "id": "pZl4zZM9Akg-"
   },
   "source": [
    "5.   Calculate the cheapest price per room from the dataset."
   ]
  },
  {
   "cell_type": "code",
   "execution_count": 78,
   "metadata": {
    "colab": {},
    "colab_type": "code",
    "id": "NgSh7WpaAlb1"
   },
   "outputs": [
    {
     "name": "stdout",
     "output_type": "stream",
     "text": [
      "The cheapest price per room is:  1.595444807757357\n"
     ]
    }
   ],
   "source": [
    "#The price per room:\n",
    "price_per_room = housing_dataset['house_value']/housing_dataset['total_rooms']\n",
    "\n",
    "#The minimum price per room:\n",
    "min_price_per_room = price_per_room.min()\n",
    "print('The cheapest price per room is: ', min_price_per_room)\n"
   ]
  },
  {
   "cell_type": "markdown",
   "metadata": {
    "colab_type": "text",
    "id": "YpRQNYwGAncM"
   },
   "source": [
    "6.   Calculate the population density (per family) for the most and least wealthy housing blocks in the dataset."
   ]
  },
  {
   "cell_type": "code",
   "execution_count": 79,
   "metadata": {
    "colab": {},
    "colab_type": "code",
    "id": "RtKpkz57AqVl"
   },
   "outputs": [
    {
     "name": "stdout",
     "output_type": "stream",
     "text": [
      "The population density (per family) for the most wealthy housing blocks is:  1.0\n",
      "The population density (per family) for the most wealthy housing blocks is:  0.15931897620926824\n"
     ]
    }
   ],
   "source": [
    "#Add the wealth of housing blocks column to the dataset:\n",
    "housing_dataset['housing_wealth'] = housing_dataset['house_value']/housing_dataset['total_rooms']\n",
    "\n",
    "#The most and the least wealthy housing:\n",
    "most_wealthy_housing = housing_dataset.loc[housing_dataset['housing_wealth'].idxmax()]\n",
    "least_wealthy_housing = housing_dataset.loc[housing_dataset['housing_wealth'].idxmin()]\n",
    "\n",
    "#print(most_wealthy_housing)\n",
    "#print(least_wealthy_housing)\n",
    "\n",
    "population_density_the_most_wealthy = most_wealthy_housing['families']/most_wealthy_housing['total_rooms']\n",
    "print('The population density (per family) for the most wealthy housing blocks is: ', population_density_the_most_wealthy)\n",
    "\n",
    "population_density_the_least_wealthy = least_wealthy_housing['families']/least_wealthy_housing['total_rooms']\n",
    "print('The population density (per family) for the most wealthy housing blocks is: ', population_density_the_least_wealthy)\n"
   ]
  },
  {
   "cell_type": "markdown",
   "metadata": {
    "colab_type": "text",
    "id": "nj1raWPgAsiy"
   },
   "source": [
    "7.   Calculate and print the total housing blocks located in the same place."
   ]
  },
  {
   "cell_type": "code",
   "execution_count": 80,
   "metadata": {
    "colab": {},
    "colab_type": "code",
    "id": "AHI-K9m-AwDR"
   },
   "outputs": [
    {
     "name": "stdout",
     "output_type": "stream",
     "text": [
      "The total housing blocks located in different locations:\n"
     ]
    },
    {
     "data": {
      "text/plain": [
       "ocean_proximity\n",
       "<1H OCEAN     9136\n",
       "INLAND        6551\n",
       "ISLAND           5\n",
       "NEAR BAY      2290\n",
       "NEAR OCEAN    2658\n",
       "Name: longitude, dtype: int64"
      ]
     },
     "execution_count": 80,
     "metadata": {},
     "output_type": "execute_result"
    }
   ],
   "source": [
    "#Group and count houses by location:\n",
    "n_by_state = housing_dataset.groupby(\"ocean_proximity\")[\"longitude\"].count()\n",
    "\n",
    "print('The total housing blocks located in different locations:')\n",
    "n_by_state.head()"
   ]
  },
  {
   "cell_type": "markdown",
   "metadata": {
    "colab_type": "text",
    "id": "44Ak48NQA1G8"
   },
   "source": [
    "8.   Calculate the price of expensive room grouped by ocean proximity."
   ]
  },
  {
   "cell_type": "code",
   "execution_count": 81,
   "metadata": {
    "colab": {},
    "colab_type": "code",
    "id": "wuMgmiElA2Eo"
   },
   "outputs": [
    {
     "name": "stdout",
     "output_type": "stream",
     "text": [
      "An expensive room less than 1h from the ocean is:  22500.0 dollars\n",
      "An expensive room inland costs:  68750.0 dollars\n",
      "An expensive room on the island costs:  451.8072289156627 dollars\n",
      "An expensive room near bay costs:  62500.125 dollars\n",
      "An expensive room near the ocean:  23333.333333333332 dollars\n"
     ]
    }
   ],
   "source": [
    "#Group rows by ocean proximity:\n",
    "house_1h_ocean = housing_dataset.loc[housing_dataset['ocean_proximity'] == '<1H OCEAN']\n",
    "house_inland = housing_dataset.loc[housing_dataset['ocean_proximity'] == 'INLAND']\n",
    "house_island = housing_dataset.loc[housing_dataset['ocean_proximity'] == 'ISLAND']\n",
    "house_near_bay = housing_dataset.loc[housing_dataset['ocean_proximity'] == 'NEAR BAY']\n",
    "house_near_ocean = housing_dataset.loc[housing_dataset['ocean_proximity'] == 'NEAR OCEAN']\n",
    "\n",
    "\n",
    "#The price of expensive room grouped by ocean proximity:\n",
    "\n",
    "expensive_1h_ocean = house_1h_ocean['housing_wealth'].max()\n",
    "print('An expensive room less than 1h from the ocean is: ', expensive_1h_ocean, 'dollars')\n",
    "\n",
    "expensive_inland = house_inland['housing_wealth'].max()\n",
    "print('An expensive room inland costs: ', expensive_inland, 'dollars')\n",
    "\n",
    "expensive_island = house_island['housing_wealth'].max()\n",
    "print('An expensive room on the island costs: ', expensive_island, 'dollars')\n",
    "\n",
    "expensive_bay = house_near_bay['housing_wealth'].max()\n",
    "print('An expensive room near bay costs: ', expensive_bay, 'dollars')\n",
    "\n",
    "expensive_ocean = house_near_ocean['housing_wealth'].max()\n",
    "print('An expensive room near the ocean: ', expensive_ocean, 'dollars')"
   ]
  },
  {
   "cell_type": "markdown",
   "metadata": {
    "colab_type": "text",
    "id": "DtPZm2IpA4_u"
   },
   "source": [
    "##**Part-2: Visualization:**  *(6 marks: 3 question x 2 marks each)*\n",
    "\n",
    "\n",
    "1.   Draw the population scatter plot against housing age and another against ocean proximity. From the graph conclude an assumption."
   ]
  },
  {
   "cell_type": "code",
   "execution_count": 82,
   "metadata": {
    "colab": {},
    "colab_type": "code",
    "id": "iKJ8-NjgA9fE"
   },
   "outputs": [
    {
     "name": "stdout",
     "output_type": "stream",
     "text": [
      "In general, the dataset contains more latest houses. Overall, the population of the house blocks is less than 10000 people. The are only a few blocks with a population between 25000 and 35000 people.\n",
      "The general trend shows that very few people prefer to live on the island. The majority choose a house less than 1H from the ocean.\n"
     ]
    },
    {
     "data": {
      "image/png": "[encoded data removed]",
      "text/plain": [
       "<Figure size 504x360 with 1 Axes>"
      ]
     },
     "metadata": {},
     "output_type": "display_data"
    },
    {
     "data": {
      "image/png": "[encoded data removed]",
      "text/plain": [
       "<Figure size 648x360 with 1 Axes>"
      ]
     },
     "metadata": {},
     "output_type": "display_data"
    }
   ],
   "source": [
    "#The population scatter plot against housing age:\n",
    "plt.scatter(housing_dataset.population, housing_dataset.housing_age, color = '#DBF291', marker='D')\n",
    "plt.scatter\n",
    "\n",
    "plt.xlabel('Population', fontsize=14)\n",
    "plt.ylabel('Housing age', fontsize=14)\n",
    "plt.suptitle('Population by housing age', fontsize=16)\n",
    "\n",
    "import seaborn as sns\n",
    "import matplotlib.pyplot as plt\n",
    "sns.set(style=\"ticks\", color_codes=True)\n",
    "\n",
    "fig = plt.gcf()\n",
    "fig.set_size_inches(7, 5)\n",
    "\n",
    "print('In general, the dataset contains more latest houses. Overall, the population of the house blocks is less than 10000 people. The are only a few blocks with a population between 25000 and 35000 people.')\n",
    "\n",
    "#The population scatter plot against ocean proximity:\n",
    "sns.catplot('ocean_proximity', 'population', data=housing_dataset);\n",
    "\n",
    "fig = plt.gcf()\n",
    "fig.set_size_inches(9, 5)\n",
    "plt.xlabel('Population', fontsize=14)\n",
    "plt.ylabel('Location', fontsize=14)\n",
    "plt.suptitle('         Population by location', fontsize=16)\n",
    "\n",
    "print('The general trend shows that very few people prefer to live on the island. The majority choose a house less than 1H from the ocean.')"
   ]
  },
  {
   "cell_type": "markdown",
   "metadata": {
    "colab_type": "text",
    "id": "WAm9CdIsA_yi"
   },
   "source": [
    "2.  Draw a bar diagram of average values of all suitable columns. (excluding latitude, longitude and ocean proximity of course)."
   ]
  },
  {
   "cell_type": "code",
   "execution_count": 83,
   "metadata": {
    "colab": {},
    "colab_type": "code",
    "id": "RKwoOm5OBC6w"
   },
   "outputs": [
    {
     "data": {
      "text/plain": [
       "Text(0, 0.5, 'Frequency')"
      ]
     },
     "execution_count": 83,
     "metadata": {},
     "output_type": "execute_result"
    },
    {
     "data": {
      "image/png": "[encoded data removed]",
      "text/plain": [
       "<Figure size 432x288 with 1 Axes>"
      ]
     },
     "metadata": {},
     "output_type": "display_data"
    }
   ],
   "source": [
    "fig, ax = plt.subplots() \n",
    "# count\n",
    "age_value = housing_dataset['housing_age'].value_counts() \n",
    "# x,y\n",
    "house_age = age_value.index \n",
    "frequency_v = age_value.values \n",
    "# bar\n",
    "ax.bar(house_age, frequency_v, color='tan') \n",
    "# \n",
    "ax.set_title('Housing Age') \n",
    "ax.set_xlabel('Age') \n",
    "ax.set_ylabel('Frequency')"
   ]
  },
  {
   "cell_type": "markdown",
   "metadata": {
    "colab_type": "text",
    "id": "EupiTHf8BEvA"
   },
   "source": [
    "3.   Visualize the differences in housing prices from the average price of housing using a bar diagram."
   ]
  },
  {
   "cell_type": "code",
   "execution_count": 84,
   "metadata": {},
   "outputs": [
    {
     "data": {
      "image/png": "[encoded data removed]",
      "text/plain": [
       "<Figure size 504x360 with 1 Axes>"
      ]
     },
     "metadata": {},
     "output_type": "display_data"
    }
   ],
   "source": [
    "plt.figure(figsize=[7,5])\n",
    "\n",
    "plt.style.use('fivethirtyeight')\n",
    "\n",
    "priceV = housing_dataset['house_value']\n",
    "\n",
    "bins = [25000, 50000, 75000, 100000, 125000, 150000, 175000, 200000, 225000, 250000, 275000, 300000, 325000, 350000, 375000, 400000, 425000, 450000, 475000, 500000]\n",
    "\n",
    "plt.hist(priceV, bins=bins, edgecolor='black', log=True, color='#B9F0F9')\n",
    "\n",
    "median_price = housing_dataset.loc[:,\"house_value\"].mean()\n",
    "color = '#fc4f30'\n",
    "\n",
    "plt.axvline(median_price, color='#B266F1', label='Price Median', linewidth=3)\n",
    "\n",
    "plt.legend()\n",
    "\n",
    "plt.title('The differences in housing prices', fontsize=16)\n",
    "plt.xlabel('Prices')\n",
    "plt.ylabel('Frequency')\n",
    "\n",
    "plt.tight_layout()\n",
    "plt.show()"
   ]
  },
  {
   "cell_type": "markdown",
   "metadata": {
    "colab_type": "text",
    "id": "FgBaJ0rWBKk-"
   },
   "source": [
    "##**Part-3: File Management:**  *(6 marks: 2 question x 3 marks each)*\n",
    "\n",
    " \n",
    "\n",
    "1.   Save the details of all housing blocks in a csv file having houses near oceans and  lower than the average of the housing value."
   ]
  },
  {
   "cell_type": "code",
   "execution_count": 85,
   "metadata": {
    "colab": {},
    "colab_type": "code",
    "id": "c0BR_AMxBOu_"
   },
   "outputs": [
    {
     "name": "stdout",
     "output_type": "stream",
     "text": [
      "       longitude  latitude  housing_age  total_rooms  total_bedrooms  \\\n",
      "1850     -124.17     41.80           16         2739           480.0   \n",
      "1851     -124.30     41.80           19         2672           552.0   \n",
      "1852     -124.23     41.75           11         3159           616.0   \n",
      "1853     -124.21     41.77           17         3461           722.0   \n",
      "1854     -124.19     41.78           15         3140           714.0   \n",
      "...          ...       ...          ...          ...             ...   \n",
      "20320    -119.15     34.25           36         3511           664.0   \n",
      "20323    -119.12     34.23           35         2028           554.0   \n",
      "20324    -119.12     34.25           31          737           146.0   \n",
      "20349    -119.08     34.17           32          166            22.0   \n",
      "20352    -119.09     34.22            8           40            10.0   \n",
      "\n",
      "       population  families  average_income ocean_proximity  house_value  \\\n",
      "1850         1259       436          3.7557      NEAR OCEAN       109400   \n",
      "1851         1298       478          1.9797      NEAR OCEAN        85800   \n",
      "1852         1343       479          2.4805      NEAR OCEAN        73200   \n",
      "1853         1947       647          2.5795      NEAR OCEAN        68400   \n",
      "1854         1645       640          1.6654      NEAR OCEAN        74600   \n",
      "...           ...       ...             ...             ...          ...   \n",
      "20320        2965       695          4.0878      NEAR OCEAN       186800   \n",
      "20323        2252       521          2.4643      NEAR OCEAN       182000   \n",
      "20324        1436       168          3.5625      NEAR OCEAN       194100   \n",
      "20349          63        29          7.3004      NEAR OCEAN       125000   \n",
      "20352         309        16          4.0208      NEAR OCEAN        52500   \n",
      "\n",
      "       pop_density  housing_wealth  \n",
      "1850      0.159182       39.941585  \n",
      "1851      0.178892       32.110778  \n",
      "1852      0.151630       23.171890  \n",
      "1853      0.186940       19.763074  \n",
      "1854      0.203822       23.757962  \n",
      "...            ...             ...  \n",
      "20320     0.197949       53.204215  \n",
      "20323     0.256903       89.743590  \n",
      "20324     0.227951      263.364993  \n",
      "20349     0.174699      753.012048  \n",
      "20352     0.400000     1312.500000  \n",
      "\n",
      "[1144 rows x 12 columns]\n"
     ]
    }
   ],
   "source": [
    "#split a housing value column:\n",
    "price = housing_dataset[['house_value']]\n",
    "#print(price)\n",
    "\n",
    "#average house value:\n",
    "av_price = np.mean(price)\n",
    "#print('The average ', avr_price)\n",
    "\n",
    "#houses near ocean:\n",
    "h_near_o = housing_dataset.loc[housing_dataset['ocean_proximity'] == 'NEAR OCEAN']    \n",
    "#print(houses_near_ocean)    \n",
    "#This is 2658 rows x 12 columns\n",
    "\n",
    "#houses near ocean and under average price:\n",
    "houses_near_ocean_cheaper_than_avr = h_near_o.loc[h_near_o['house_value'] < 206856]     \n",
    "print(houses_near_ocean_cheaper_than_avr)    \n",
    "#This is 1144 rows x 12 columns\n",
    "\n",
    "#Create csv file having houses near oceans and lower than the average of the housing value:\n",
    "houses_near_ocean_cheaper_than_avr.to_csv(r'C:\\Users\\alina\\OneDrive\\Documents\\Units\\Trimester 2\\SIT720\\New folder\\houses_near_ocean_cheaper_than_avr.csv')"
   ]
  },
  {
   "cell_type": "markdown",
   "metadata": {
    "colab_type": "text",
    "id": "KDM2MY16-qHs"
   },
   "source": [
    "\n",
    "\n",
    "\n",
    "\n",
    "\n",
    "2.   Create a new housing dataset (a csv file) having only the location, total rooms and housing price information.\n",
    "\n",
    "\n",
    "\n",
    "\n"
   ]
  },
  {
   "cell_type": "code",
   "execution_count": 86,
   "metadata": {
    "colab": {},
    "colab_type": "code",
    "id": "uwmK7HfYdzHd"
   },
   "outputs": [
    {
     "name": "stdout",
     "output_type": "stream",
     "text": [
      "      ocean_proximity  total_rooms  house_value\n",
      "0            NEAR BAY          880       452600\n",
      "1            NEAR BAY         7099       358500\n",
      "2            NEAR BAY         1467       352100\n",
      "3            NEAR BAY         1274       341300\n",
      "4            NEAR BAY         1627       342200\n",
      "...               ...          ...          ...\n",
      "20635          INLAND         1665        78100\n",
      "20636          INLAND          697        77100\n",
      "20637          INLAND         2254        92300\n",
      "20638          INLAND         1860        84700\n",
      "20639          INLAND         2785        89400\n",
      "\n",
      "[20640 rows x 3 columns]\n"
     ]
    }
   ],
   "source": [
    "loc_room_price = housing_dataset[['ocean_proximity','total_rooms', 'house_value']]\n",
    "print(loc_room_price)\n",
    "loc_room_price.to_csv(r'C:\\Users\\alina\\OneDrive\\Documents\\Units\\Trimester 2\\SIT720\\New folder\\loc_room_price.csv')\n"
   ]
  },
  {
   "cell_type": "code",
   "execution_count": null,
   "metadata": {},
   "outputs": [],
   "source": []
  }
 ],
 "metadata": {
  "colab": {
   "collapsed_sections": [],
   "name": "A1.ipynb",
   "provenance": []
  },
  "kernelspec": {
   "display_name": "Python 3",
   "language": "python",
   "name": "python3"
  },
  "language_info": {
   "codemirror_mode": {
    "name": "ipython",
    "version": 3
   },
   "file_extension": ".py",
   "mimetype": "text/x-python",
   "name": "python",
   "nbconvert_exporter": "python",
   "pygments_lexer": "ipython3",
   "version": "3.7.6"
  }
 },
 "nbformat": 4,
 "nbformat_minor": 4
}
